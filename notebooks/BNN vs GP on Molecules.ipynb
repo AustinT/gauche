{
 "cells": [
  {
   "cell_type": "markdown",
   "metadata": {},
   "source": [
    "# BNN vs GP for regression on Molecules\n",
    "\n",
    "Here we will compare the regression of molecules for the given datasets using BNN with GPs. Here we rely on Bayesian linear layers with variational estimator from BLiTZ (https://github.com/piEsposito/blitz-bayesian-deep-learning). This can be installed using `pip install blitz-bayesian-pytorch`.\n",
    "\n",
    "The densely connected network will have weight *distributions* rather than deterministic weights. The uncertainty of the model will be obtained by repeatedly sampling the network for predictions."
   ]
  },
  {
   "cell_type": "markdown",
   "metadata": {},
   "source": [
    "## Set up datasets and import packages"
   ]
  },
  {
   "cell_type": "code",
   "execution_count": 72,
   "metadata": {},
   "outputs": [],
   "source": [
    "import os, sys\n",
    "sys.path.append('..')\n",
    "\n",
    "import sklearn\n",
    "from gauche.dataloader import DataLoaderMP\n",
    "from gauche.dataloader.data_utils import transform_data\n",
    "\n",
    "import pandas as pd\n",
    "import numpy as np\n",
    "import rdkit.Chem.AllChem as Chem\n",
    "import matplotlib.pyplot as plt\n",
    "\n",
    "from sklearn.model_selection import train_test_split\n",
    "from sklearn.metrics import mean_absolute_error, mean_squared_error, r2_score\n",
    "\n",
    "import torch\n",
    "import torch.nn as nn\n",
    "import torch.nn.functional as F\n",
    "\n",
    "from blitz.modules import BayesianLinear\n",
    "from blitz.utils import variational_estimator"
   ]
  },
  {
   "cell_type": "code",
   "execution_count": 2,
   "metadata": {},
   "outputs": [],
   "source": [
    "dataset_paths = {\n",
    "    \"Photoswitch\": \"../data/property_prediction/photoswitches.csv\",\n",
    "    \"ESOL\": \"../data/property_prediction/ESOL.csv\",\n",
    "    \"FreeSolv\": \"../data/property_prediction/FreeSolv.csv\",\n",
    "    \"Lipophilicity\": \"../data/property_prediction/Lipophilicity.csv\",\n",
    "}\n",
    "    \n",
    "\n",
    "loader = DataLoaderMP()\n",
    "loader.load_benchmark(\"ESOL\", dataset_paths[\"ESOL\"])\n",
    "\n",
    "loader.featurize('fragprints')\n",
    "X_fragprints = loader.features\n",
    "y = loader.labels\n"
   ]
  },
  {
   "cell_type": "code",
   "execution_count": 3,
   "metadata": {},
   "outputs": [
    {
     "name": "stdout",
     "output_type": "stream",
     "text": [
      "Features: \n",
      "[0. 1. 0. ... 0. 0. 0.]\n",
      "Labels: \n",
      "[-0.77]\n"
     ]
    }
   ],
   "source": [
    "print(f'Features: ')\n",
    "print(X_fragprints[0])\n",
    "\n",
    "print(f'Labels: ')\n",
    "print(y[0])"
   ]
  },
  {
   "cell_type": "markdown",
   "metadata": {},
   "source": [
    "## Create model\n"
   ]
  },
  {
   "cell_type": "code",
   "execution_count": 40,
   "metadata": {},
   "outputs": [],
   "source": [
    "@variational_estimator\n",
    "class BNN(nn.Module):\n",
    "    def __init__(self, input_dim, hidden_dim, output_dim=1):\n",
    "        super().__init__()\n",
    "        self.layer1 = BayesianLinear(input_dim, hidden_dim)\n",
    "        self.layer2 = BayesianLinear(hidden_dim, output_dim)\n",
    "        \n",
    "    def forward(self, x):\n",
    "        x = self.layer1(x)\n",
    "        x = F.relu(x)\n",
    "        x = self.layer2(x)\n",
    "        return x"
   ]
  },
  {
   "cell_type": "code",
   "execution_count": 52,
   "metadata": {},
   "outputs": [],
   "source": [
    "def evaluate_regression(regressor,\n",
    "                        X,\n",
    "                        y,\n",
    "                        samples = 100,\n",
    "                        std_multiplier = 2):\n",
    "    '''Return:\n",
    "    ic_acc : accuracy of values within the CI\n",
    "    under_ci_upper : percent below the CI upperbound\n",
    "    over_ci_lower : percent above the CI lowerbound\n",
    "    '''\n",
    "    preds = [regressor(X) for i in range(samples)]\n",
    "    preds = torch.stack(preds)\n",
    "    means = preds.mean(axis=0)\n",
    "    stds = preds.std(axis=0)\n",
    "    ci_upper = means + (std_multiplier * stds)\n",
    "    ci_lower = means - (std_multiplier * stds)\n",
    "    ic_acc = (ci_lower <= y) * (ci_upper >= y)\n",
    "    ic_acc = ic_acc.float().mean()\n",
    "    return ic_acc, (ci_upper >= y).float().mean(), (ci_lower <= y).float().mean()\n",
    "\n",
    "def predict(regressor, X, samples = 100):\n",
    "    '''Return:\n",
    "    ic_acc : accuracy of values within the CI\n",
    "    under_ci_upper : percent below the CI upperbound\n",
    "    over_ci_lower : percent above the CI lowerbound\n",
    "    '''\n",
    "    preds = [regressor(X) for i in range(samples)]\n",
    "    preds = torch.stack(preds)\n",
    "    means = preds.mean(axis=0)\n",
    "    stds = preds.std(axis=0)\n",
    "    return means, stds"
   ]
  },
  {
   "cell_type": "code",
   "execution_count": 31,
   "metadata": {},
   "outputs": [],
   "source": [
    "n_trials = 20\n",
    "test_set_size = 0.2"
   ]
  },
  {
   "cell_type": "code",
   "execution_count": 73,
   "metadata": {},
   "outputs": [],
   "source": [
    "from tqdm import tqdm\n",
    "\n",
    "def evaluate_model(X, y, n_epochs=100, n_trials=20):\n",
    "    \n",
    "    r2_list = []\n",
    "    rmse_list = []\n",
    "    mae_list = []\n",
    "    \n",
    "    # We pre-allocate array for plotting confidence-error curves\n",
    "\n",
    "    _, _, _, y_test = train_test_split(X, y, test_size=test_set_size)  # To get test set size\n",
    "    n_test = len(y_test)\n",
    "    \n",
    "    mae_confidence_list = np.zeros((n_trials, n_test))\n",
    "    \n",
    "    print('\\nBeginning training loop...')\n",
    "\n",
    "    for i in range(0, n_trials):\n",
    "        \n",
    "        print(f'Starting trial {i}')\n",
    "                \n",
    "        X_train, X_test, y_train, y_test = train_test_split(X, y, test_size=test_set_size, random_state=i)\n",
    "\n",
    "        #  We standardise the outputs but leave the inputs unchanged\n",
    "        _, y_train, _, y_test, y_scaler = transform_data(X_train, y_train, X_test, y_test)\n",
    "\n",
    "        # Convert numpy arrays to PyTorch tensors and flatten the label vectors\n",
    "        X_train = torch.tensor(X_train).to(torch.float)\n",
    "        X_test = torch.tensor(X_test).to(torch.float)\n",
    "        y_train = torch.tensor(y_train).to(torch.float)\n",
    "        y_test = torch.tensor(y_test).to(torch.float)\n",
    "\n",
    "        model = BNN(X_train.shape[-1], 100)\n",
    "        optimizer = torch.optim.Adam(model.parameters(), lr=0.01)\n",
    "        criterion = torch.nn.MSELoss()\n",
    "        \n",
    "        ds_train = torch.utils.data.TensorDataset(X_train, y_train)\n",
    "        dataloader_train = torch.utils.data.DataLoader(ds_train, batch_size=64, shuffle=True)\n",
    "        \n",
    "        ds_test = torch.utils.data.TensorDataset(X_test, y_test)\n",
    "        dataloader_test = torch.utils.data.DataLoader(ds_test, batch_size=64, shuffle=False)\n",
    "        \n",
    "        iteration = 0\n",
    "        status = {}\n",
    "        pbar = tqdm(range(n_epochs))\n",
    "        for epoch in pbar:\n",
    "            for datapoints, labels in dataloader_train:\n",
    "                optimizer.zero_grad()\n",
    "                \n",
    "                loss = model.sample_elbo(inputs=datapoints,\n",
    "                                   labels=labels,\n",
    "                                   criterion=criterion,\n",
    "                                   sample_nbr=3,\n",
    "                                   complexity_cost_weight=1/X_train.shape[0])\n",
    "                loss.backward()\n",
    "                optimizer.step()\n",
    "                \n",
    "                status.update({\n",
    "                    'Epoch': epoch, \n",
    "                    'loss': loss.detach().numpy()\n",
    "                })\n",
    "                pbar.set_postfix(status)\n",
    "\n",
    "                iteration += 1\n",
    "                if iteration%10==0:\n",
    "                    with torch.no_grad():\n",
    "                        ic_acc, under_ci_upper, over_ci_lower = evaluate_regression(model,\n",
    "                                                                                    X_test,\n",
    "                                                                                    y_test,\n",
    "                                                                                    samples=25,\n",
    "                                                                                    std_multiplier=3)\n",
    "                    status.update({\n",
    "                        'CI acc': ic_acc.detach().numpy(), \n",
    "                        'CI upper acc': under_ci_upper.detach().numpy(),\n",
    "                        'CI lower acc': over_ci_lower.detach().numpy()\n",
    "                    })\n",
    "                    pbar.set_postfix(status)\n",
    "\n",
    "        # Get into evaluation (predictive posterior) mode\n",
    "        model.eval()\n",
    "        \n",
    "        with torch.no_grad():\n",
    "            # mean and variance by sampling\n",
    "            y_pred, y_std = predict(model, X_test, samples=100)\n",
    "            y_var = y_std**2\n",
    "\n",
    "        # Transform back to real data space to compute metrics and detach gradients. Must unsqueeze dimension\n",
    "        # to make compatible with inverse_transform in scikit-learn version > 1\n",
    "        y_pred = y_scaler.inverse_transform(y_pred.detach())\n",
    "        y_test = y_scaler.inverse_transform(y_test.detach())\n",
    "\n",
    "        # Compute scores for confidence curve plotting.\n",
    "\n",
    "        ranked_confidence_list = np.argsort(y_var.detach(), axis=0).flatten()\n",
    "\n",
    "        for k in range(len(y_test)):\n",
    "\n",
    "            # Construct the MAE error for each level of confidence\n",
    "\n",
    "            conf = ranked_confidence_list[0:k+1]\n",
    "            mae = mean_absolute_error(y_test[conf], y_pred[conf])\n",
    "            mae_confidence_list[i, k] = mae\n",
    "\n",
    "        # Output Standardised RMSE and RMSE on Train Set\n",
    "        with torch.no_grad():\n",
    "            y_train = y_train.detach()\n",
    "            y_pred_train, _ = predict(model, X_train)\n",
    "            \n",
    "        train_rmse_stan = np.sqrt(mean_squared_error(y_train, y_pred_train))\n",
    "        train_rmse = np.sqrt(mean_squared_error(y_scaler.inverse_transform(y_train), \n",
    "                                                y_scaler.inverse_transform(y_pred_train)))\n",
    "\n",
    "        # Compute R^2, RMSE and MAE on Test set\n",
    "        score = r2_score(y_test, y_pred)\n",
    "        rmse = np.sqrt(mean_squared_error(y_test, y_pred))\n",
    "        mae = mean_absolute_error(y_test, y_pred)\n",
    "\n",
    "        r2_list.append(score)\n",
    "        rmse_list.append(rmse)\n",
    "        mae_list.append(mae)\n",
    "        \n",
    "    r2_list = np.array(r2_list)\n",
    "    rmse_list = np.array(rmse_list)\n",
    "    mae_list = np.array(mae_list)\n",
    "        \n",
    "    print(\"\\nmean R^2: {:.4f} +- {:.4f}\".format(np.mean(r2_list), np.std(r2_list)/np.sqrt(len(r2_list))))\n",
    "    print(\"mean RMSE: {:.4f} +- {:.4f}\".format(np.mean(rmse_list), np.std(rmse_list)/np.sqrt(len(rmse_list))))\n",
    "    print(\"mean MAE: {:.4f} +- {:.4f}\\n\".format(np.mean(mae_list), np.std(mae_list)/np.sqrt(len(mae_list)))) \n",
    "    \n",
    "    # Plot confidence-error curves\n",
    "\n",
    "    # 1e-14 instead of 0 to for numerical reasons!\n",
    "    confidence_percentiles = np.arange(1e-14, 100, 100/len(y_test))  \n",
    "\n",
    "    # We plot the Mean-absolute error confidence-error curves\n",
    "\n",
    "    mae_mean = np.mean(mae_confidence_list, axis=0)\n",
    "    mae_std = np.std(mae_confidence_list, axis=0)\n",
    "\n",
    "    mae_mean = np.flip(mae_mean)\n",
    "    mae_std = np.flip(mae_std)\n",
    "\n",
    "    # 1 sigma errorbars\n",
    "\n",
    "    lower = mae_mean - mae_std\n",
    "    upper = mae_mean + mae_std\n",
    "\n",
    "    plt.plot(confidence_percentiles, mae_mean, label='mean')\n",
    "    plt.fill_between(confidence_percentiles, lower, upper, alpha=0.2)\n",
    "    plt.xlabel('Confidence Percentile')\n",
    "    plt.ylabel('MAE (nm)')\n",
    "    plt.ylim([0, np.max(upper) + 1])\n",
    "    plt.xlim([0, 100 * ((len(y_test) - 1) / len(y_test))])\n",
    "    plt.yticks(np.arange(0, np.max(upper) + 1, 5.0))\n",
    "    plt.show()\n",
    "    \n",
    "#     return \n"
   ]
  },
  {
   "cell_type": "code",
   "execution_count": 75,
   "metadata": {},
   "outputs": [
    {
     "name": "stdout",
     "output_type": "stream",
     "text": [
      "\n",
      "Beginning training loop...\n",
      "Starting trial 0\n"
     ]
    },
    {
     "name": "stderr",
     "output_type": "stream",
     "text": [
      "100%|██████████| 100/100 [00:50<00:00,  1.98it/s, Epoch=99, loss=9.622459, CI acc=0.9026549, CI upper acc=0.9336283, CI lower acc=0.96902657]   \n"
     ]
    },
    {
     "name": "stdout",
     "output_type": "stream",
     "text": [
      "Starting trial 1\n"
     ]
    },
    {
     "name": "stderr",
     "output_type": "stream",
     "text": [
      "100%|██████████| 100/100 [00:50<00:00,  1.98it/s, Epoch=99, loss=9.52134, CI acc=0.90707964, CI upper acc=0.9734513, CI lower acc=0.9336283]    \n"
     ]
    },
    {
     "name": "stdout",
     "output_type": "stream",
     "text": [
      "Starting trial 2\n"
     ]
    },
    {
     "name": "stderr",
     "output_type": "stream",
     "text": [
      "100%|██████████| 100/100 [00:50<00:00,  1.97it/s, Epoch=99, loss=9.726129, CI acc=0.90707964, CI upper acc=0.94690263, CI lower acc=0.960177]   \n"
     ]
    },
    {
     "name": "stdout",
     "output_type": "stream",
     "text": [
      "Starting trial 3\n"
     ]
    },
    {
     "name": "stderr",
     "output_type": "stream",
     "text": [
      "100%|██████████| 100/100 [00:51<00:00,  1.94it/s, Epoch=99, loss=9.604102, CI acc=0.90707964, CI upper acc=0.9380531, CI lower acc=0.96902657]  \n"
     ]
    },
    {
     "name": "stdout",
     "output_type": "stream",
     "text": [
      "Starting trial 4\n"
     ]
    },
    {
     "name": "stderr",
     "output_type": "stream",
     "text": [
      "100%|██████████| 100/100 [00:51<00:00,  1.96it/s, Epoch=99, loss=9.26519, CI acc=0.9336283, CI upper acc=0.94690263, CI lower acc=0.9867257]    \n"
     ]
    },
    {
     "name": "stdout",
     "output_type": "stream",
     "text": [
      "Starting trial 5\n"
     ]
    },
    {
     "name": "stderr",
     "output_type": "stream",
     "text": [
      "100%|██████████| 100/100 [00:50<00:00,  1.99it/s, Epoch=99, loss=9.452367, CI acc=0.9336283, CI upper acc=0.9557522, CI lower acc=0.9778761]    \n"
     ]
    },
    {
     "name": "stdout",
     "output_type": "stream",
     "text": [
      "Starting trial 6\n"
     ]
    },
    {
     "name": "stderr",
     "output_type": "stream",
     "text": [
      "100%|██████████| 100/100 [00:49<00:00,  2.03it/s, Epoch=99, loss=9.531386, CI acc=0.94690263, CI upper acc=0.9823009, CI lower acc=0.96460176]  \n"
     ]
    },
    {
     "name": "stdout",
     "output_type": "stream",
     "text": [
      "Starting trial 7\n"
     ]
    },
    {
     "name": "stderr",
     "output_type": "stream",
     "text": [
      "100%|██████████| 100/100 [00:50<00:00,  2.00it/s, Epoch=99, loss=9.782043, CI acc=0.8495575, CI upper acc=0.88053095, CI lower acc=0.96902657]  \n"
     ]
    },
    {
     "name": "stdout",
     "output_type": "stream",
     "text": [
      "Starting trial 8\n"
     ]
    },
    {
     "name": "stderr",
     "output_type": "stream",
     "text": [
      "100%|██████████| 100/100 [00:49<00:00,  2.02it/s, Epoch=99, loss=9.503964, CI acc=0.9026549, CI upper acc=0.92477876, CI lower acc=0.9778761]   \n"
     ]
    },
    {
     "name": "stdout",
     "output_type": "stream",
     "text": [
      "Starting trial 9\n"
     ]
    },
    {
     "name": "stderr",
     "output_type": "stream",
     "text": [
      "100%|██████████| 100/100 [00:49<00:00,  2.02it/s, Epoch=99, loss=9.488887, CI acc=0.88495576, CI upper acc=0.920354, CI lower acc=0.96460176]   \n"
     ]
    },
    {
     "name": "stdout",
     "output_type": "stream",
     "text": [
      "Starting trial 10\n"
     ]
    },
    {
     "name": "stderr",
     "output_type": "stream",
     "text": [
      "100%|██████████| 100/100 [00:49<00:00,  2.01it/s, Epoch=99, loss=9.535778, CI acc=0.92477876, CI upper acc=0.9778761, CI lower acc=0.94690263]  \n"
     ]
    },
    {
     "name": "stdout",
     "output_type": "stream",
     "text": [
      "Starting trial 11\n"
     ]
    },
    {
     "name": "stderr",
     "output_type": "stream",
     "text": [
      "100%|██████████| 100/100 [00:49<00:00,  2.01it/s, Epoch=99, loss=9.542506, CI acc=0.9292035, CI upper acc=0.96902657, CI lower acc=0.960177]    \n"
     ]
    },
    {
     "name": "stdout",
     "output_type": "stream",
     "text": [
      "Starting trial 12\n"
     ]
    },
    {
     "name": "stderr",
     "output_type": "stream",
     "text": [
      "100%|██████████| 100/100 [00:49<00:00,  2.03it/s, Epoch=99, loss=9.521089, CI acc=0.9336283, CI upper acc=0.9557522, CI lower acc=0.9778761]    \n"
     ]
    },
    {
     "name": "stdout",
     "output_type": "stream",
     "text": [
      "Starting trial 13\n"
     ]
    },
    {
     "name": "stderr",
     "output_type": "stream",
     "text": [
      "100%|██████████| 100/100 [00:49<00:00,  2.01it/s, Epoch=99, loss=9.506863, CI acc=0.8716814, CI upper acc=0.9424779, CI lower acc=0.9292035]    \n"
     ]
    },
    {
     "name": "stdout",
     "output_type": "stream",
     "text": [
      "Starting trial 14\n"
     ]
    },
    {
     "name": "stderr",
     "output_type": "stream",
     "text": [
      "100%|██████████| 100/100 [00:49<00:00,  2.02it/s, Epoch=99, loss=9.511554, CI acc=0.88053095, CI upper acc=0.91150445, CI lower acc=0.96902657] \n"
     ]
    },
    {
     "name": "stdout",
     "output_type": "stream",
     "text": [
      "Starting trial 15\n"
     ]
    },
    {
     "name": "stderr",
     "output_type": "stream",
     "text": [
      "100%|██████████| 100/100 [00:49<00:00,  2.02it/s, Epoch=99, loss=9.5269575, CI acc=0.9292035, CI upper acc=0.9734513, CI lower acc=0.9557522]   \n"
     ]
    },
    {
     "name": "stdout",
     "output_type": "stream",
     "text": [
      "Starting trial 16\n"
     ]
    },
    {
     "name": "stderr",
     "output_type": "stream",
     "text": [
      "100%|██████████| 100/100 [00:49<00:00,  2.01it/s, Epoch=99, loss=9.599106, CI acc=0.9424779, CI upper acc=0.960177, CI lower acc=0.9823009]     \n"
     ]
    },
    {
     "name": "stdout",
     "output_type": "stream",
     "text": [
      "Starting trial 17\n"
     ]
    },
    {
     "name": "stderr",
     "output_type": "stream",
     "text": [
      "100%|██████████| 100/100 [00:49<00:00,  2.01it/s, Epoch=99, loss=9.446103, CI acc=0.9292035, CI upper acc=0.9557522, CI lower acc=0.9734513]    \n"
     ]
    },
    {
     "name": "stdout",
     "output_type": "stream",
     "text": [
      "Starting trial 18\n"
     ]
    },
    {
     "name": "stderr",
     "output_type": "stream",
     "text": [
      "100%|██████████| 100/100 [00:50<00:00,  1.97it/s, Epoch=99, loss=9.537182, CI acc=0.9336283, CI upper acc=0.9867257, CI lower acc=0.94690263]   \n"
     ]
    },
    {
     "name": "stdout",
     "output_type": "stream",
     "text": [
      "Starting trial 19\n"
     ]
    },
    {
     "name": "stderr",
     "output_type": "stream",
     "text": [
      "100%|██████████| 100/100 [00:49<00:00,  2.03it/s, Epoch=99, loss=9.57556, CI acc=0.920354, CI upper acc=0.95132744, CI lower acc=0.96902657]    \n"
     ]
    },
    {
     "name": "stdout",
     "output_type": "stream",
     "text": [
      "\n",
      "mean R^2: 0.7523 +- 0.0061\n",
      "mean RMSE: 1.0401 +- 0.0149\n",
      "mean MAE: 0.8219 +- 0.0132\n",
      "\n"
     ]
    },
    {
     "data": {
      "image/png": "[encoded data removed]",
      "text/plain": [
       "<Figure size 640x480 with 1 Axes>"
      ]
     },
     "metadata": {},
     "output_type": "display_data"
    }
   ],
   "source": [
    "evaluate_model(X_fragprints, y, 100, 20)"
   ]
  },
  {
   "cell_type": "markdown",
   "metadata": {},
   "source": [
    "We observe that while the BNN model is able to achieve relatively low errors in prediction, the errors are not very well calibrated, resulting in poor correlation of the MAE with the confidence percentile from the model uncertainty. "
   ]
  },
  {
   "cell_type": "code",
   "execution_count": null,
   "metadata": {},
   "outputs": [],
   "source": []
  }
 ],
 "metadata": {
  "kernelspec": {
   "display_name": "gauche",
   "language": "python",
   "name": "gauche"
  },
  "language_info": {
   "codemirror_mode": {
    "name": "ipython",
    "version": 3
   },
   "file_extension": ".py",
   "mimetype": "text/x-python",
   "name": "python",
   "nbconvert_exporter": "python",
   "pygments_lexer": "ipython3",
   "version": "3.7.12"
  }
 },
 "nbformat": 4,
 "nbformat_minor": 2
}
